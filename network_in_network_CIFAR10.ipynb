{
  "nbformat": 4,
  "nbformat_minor": 0,
  "metadata": {
    "colab": {
      "name": "network_in_network_CIFAR10.ipynb",
      "provenance": [],
      "collapsed_sections": []
    },
    "kernelspec": {
      "name": "python3",
      "display_name": "Python 3"
    },
    "language_info": {
      "name": "python"
    },
    "accelerator": "GPU",
    "widgets": {
      "application/vnd.jupyter.widget-state+json": {
        "ba2c5899dd4d4be4a785a11a26fefc73": {
          "model_module": "@jupyter-widgets/controls",
          "model_name": "HBoxModel",
          "state": {
            "_view_name": "HBoxView",
            "_dom_classes": [],
            "_model_name": "HBoxModel",
            "_view_module": "@jupyter-widgets/controls",
            "_model_module_version": "1.5.0",
            "_view_count": null,
            "_view_module_version": "1.5.0",
            "box_style": "",
            "layout": "IPY_MODEL_2a7740a09e214fc9aaee94e30ad3055b",
            "_model_module": "@jupyter-widgets/controls",
            "children": [
              "IPY_MODEL_c547fb03ca8d4212b018270f03005ca0",
              "IPY_MODEL_05c2ea4b4ac548199de007b81dcf5f9e"
            ]
          }
        },
        "2a7740a09e214fc9aaee94e30ad3055b": {
          "model_module": "@jupyter-widgets/base",
          "model_name": "LayoutModel",
          "state": {
            "_view_name": "LayoutView",
            "grid_template_rows": null,
            "right": null,
            "justify_content": null,
            "_view_module": "@jupyter-widgets/base",
            "overflow": null,
            "_model_module_version": "1.2.0",
            "_view_count": null,
            "flex_flow": null,
            "width": null,
            "min_width": null,
            "border": null,
            "align_items": null,
            "bottom": null,
            "_model_module": "@jupyter-widgets/base",
            "top": null,
            "grid_column": null,
            "overflow_y": null,
            "overflow_x": null,
            "grid_auto_flow": null,
            "grid_area": null,
            "grid_template_columns": null,
            "flex": null,
            "_model_name": "LayoutModel",
            "justify_items": null,
            "grid_row": null,
            "max_height": null,
            "align_content": null,
            "visibility": null,
            "align_self": null,
            "height": null,
            "min_height": null,
            "padding": null,
            "grid_auto_rows": null,
            "grid_gap": null,
            "max_width": null,
            "order": null,
            "_view_module_version": "1.2.0",
            "grid_template_areas": null,
            "object_position": null,
            "object_fit": null,
            "grid_auto_columns": null,
            "margin": null,
            "display": null,
            "left": null
          }
        },
        "c547fb03ca8d4212b018270f03005ca0": {
          "model_module": "@jupyter-widgets/controls",
          "model_name": "FloatProgressModel",
          "state": {
            "_view_name": "ProgressView",
            "style": "IPY_MODEL_9eb0a076367946b2927ff4102aff040d",
            "_dom_classes": [],
            "description": "",
            "_model_name": "FloatProgressModel",
            "bar_style": "success",
            "max": 170498071,
            "_view_module": "@jupyter-widgets/controls",
            "_model_module_version": "1.5.0",
            "value": 170498071,
            "_view_count": null,
            "_view_module_version": "1.5.0",
            "orientation": "horizontal",
            "min": 0,
            "description_tooltip": null,
            "_model_module": "@jupyter-widgets/controls",
            "layout": "IPY_MODEL_7cd5ea5a829742b6a4a0de8442ff7b11"
          }
        },
        "05c2ea4b4ac548199de007b81dcf5f9e": {
          "model_module": "@jupyter-widgets/controls",
          "model_name": "HTMLModel",
          "state": {
            "_view_name": "HTMLView",
            "style": "IPY_MODEL_508e948a6ef64cc88838e5085b82db84",
            "_dom_classes": [],
            "description": "",
            "_model_name": "HTMLModel",
            "placeholder": "​",
            "_view_module": "@jupyter-widgets/controls",
            "_model_module_version": "1.5.0",
            "value": " 170499072/? [00:26&lt;00:00, 6325316.29it/s]",
            "_view_count": null,
            "_view_module_version": "1.5.0",
            "description_tooltip": null,
            "_model_module": "@jupyter-widgets/controls",
            "layout": "IPY_MODEL_bf801c76d1f24778b26436228c13403f"
          }
        },
        "9eb0a076367946b2927ff4102aff040d": {
          "model_module": "@jupyter-widgets/controls",
          "model_name": "ProgressStyleModel",
          "state": {
            "_view_name": "StyleView",
            "_model_name": "ProgressStyleModel",
            "description_width": "initial",
            "_view_module": "@jupyter-widgets/base",
            "_model_module_version": "1.5.0",
            "_view_count": null,
            "_view_module_version": "1.2.0",
            "bar_color": null,
            "_model_module": "@jupyter-widgets/controls"
          }
        },
        "7cd5ea5a829742b6a4a0de8442ff7b11": {
          "model_module": "@jupyter-widgets/base",
          "model_name": "LayoutModel",
          "state": {
            "_view_name": "LayoutView",
            "grid_template_rows": null,
            "right": null,
            "justify_content": null,
            "_view_module": "@jupyter-widgets/base",
            "overflow": null,
            "_model_module_version": "1.2.0",
            "_view_count": null,
            "flex_flow": null,
            "width": null,
            "min_width": null,
            "border": null,
            "align_items": null,
            "bottom": null,
            "_model_module": "@jupyter-widgets/base",
            "top": null,
            "grid_column": null,
            "overflow_y": null,
            "overflow_x": null,
            "grid_auto_flow": null,
            "grid_area": null,
            "grid_template_columns": null,
            "flex": null,
            "_model_name": "LayoutModel",
            "justify_items": null,
            "grid_row": null,
            "max_height": null,
            "align_content": null,
            "visibility": null,
            "align_self": null,
            "height": null,
            "min_height": null,
            "padding": null,
            "grid_auto_rows": null,
            "grid_gap": null,
            "max_width": null,
            "order": null,
            "_view_module_version": "1.2.0",
            "grid_template_areas": null,
            "object_position": null,
            "object_fit": null,
            "grid_auto_columns": null,
            "margin": null,
            "display": null,
            "left": null
          }
        },
        "508e948a6ef64cc88838e5085b82db84": {
          "model_module": "@jupyter-widgets/controls",
          "model_name": "DescriptionStyleModel",
          "state": {
            "_view_name": "StyleView",
            "_model_name": "DescriptionStyleModel",
            "description_width": "",
            "_view_module": "@jupyter-widgets/base",
            "_model_module_version": "1.5.0",
            "_view_count": null,
            "_view_module_version": "1.2.0",
            "_model_module": "@jupyter-widgets/controls"
          }
        },
        "bf801c76d1f24778b26436228c13403f": {
          "model_module": "@jupyter-widgets/base",
          "model_name": "LayoutModel",
          "state": {
            "_view_name": "LayoutView",
            "grid_template_rows": null,
            "right": null,
            "justify_content": null,
            "_view_module": "@jupyter-widgets/base",
            "overflow": null,
            "_model_module_version": "1.2.0",
            "_view_count": null,
            "flex_flow": null,
            "width": null,
            "min_width": null,
            "border": null,
            "align_items": null,
            "bottom": null,
            "_model_module": "@jupyter-widgets/base",
            "top": null,
            "grid_column": null,
            "overflow_y": null,
            "overflow_x": null,
            "grid_auto_flow": null,
            "grid_area": null,
            "grid_template_columns": null,
            "flex": null,
            "_model_name": "LayoutModel",
            "justify_items": null,
            "grid_row": null,
            "max_height": null,
            "align_content": null,
            "visibility": null,
            "align_self": null,
            "height": null,
            "min_height": null,
            "padding": null,
            "grid_auto_rows": null,
            "grid_gap": null,
            "max_width": null,
            "order": null,
            "_view_module_version": "1.2.0",
            "grid_template_areas": null,
            "object_position": null,
            "object_fit": null,
            "grid_auto_columns": null,
            "margin": null,
            "display": null,
            "left": null
          }
        }
      }
    }
  },
  "cells": [
    {
      "cell_type": "code",
      "metadata": {
        "id": "8YwUhkTnMSxH"
      },
      "source": [
        "import numpy\n",
        "import torch\n",
        "import torchvision\n",
        "import torch.optim as optim\n",
        "import torchvision.transforms as transforms\n",
        "import torch.nn as nn\n",
        "import torch.nn.functional as F\n"
      ],
      "execution_count": 1,
      "outputs": []
    },
    {
      "cell_type": "code",
      "metadata": {
        "colab": {
          "base_uri": "https://localhost:8080/",
          "height": 117,
          "referenced_widgets": [
            "ba2c5899dd4d4be4a785a11a26fefc73",
            "2a7740a09e214fc9aaee94e30ad3055b",
            "c547fb03ca8d4212b018270f03005ca0",
            "05c2ea4b4ac548199de007b81dcf5f9e",
            "9eb0a076367946b2927ff4102aff040d",
            "7cd5ea5a829742b6a4a0de8442ff7b11",
            "508e948a6ef64cc88838e5085b82db84",
            "bf801c76d1f24778b26436228c13403f"
          ]
        },
        "id": "EPpMXZiGM4KU",
        "outputId": "492aef81-d99c-4658-c244-c8ff7cb9b766"
      },
      "source": [
        "transform = transforms.Compose(\n",
        "    [transforms.ToTensor(),\n",
        "     transforms.Normalize((0.5, 0.5, 0.5), (0.5, 0.5, 0.5))])\n",
        "\n",
        "batch_size = 4\n",
        "\n",
        "trainset = torchvision.datasets.CIFAR10(root='./data', train=True,\n",
        "                                        download=True, transform=transform)\n",
        "trainloader = torch.utils.data.DataLoader(trainset, batch_size=batch_size,\n",
        "                                          shuffle=True, num_workers=2)\n",
        "\n",
        "testset = torchvision.datasets.CIFAR10(root='./data', train=False,\n",
        "                                       download=True, transform=transform)\n",
        "testloader = torch.utils.data.DataLoader(testset, batch_size=batch_size,\n",
        "                                         shuffle=False, num_workers=2)\n",
        "\n",
        "classes = ('plane', 'car', 'bird', 'cat',\n",
        "           'deer', 'dog', 'frog', 'horse', 'ship', 'truck')"
      ],
      "execution_count": 2,
      "outputs": [
        {
          "output_type": "stream",
          "text": [
            "Downloading https://www.cs.toronto.edu/~kriz/cifar-10-python.tar.gz to ./data/cifar-10-python.tar.gz\n"
          ],
          "name": "stdout"
        },
        {
          "output_type": "display_data",
          "data": {
            "application/vnd.jupyter.widget-view+json": {
              "model_id": "ba2c5899dd4d4be4a785a11a26fefc73",
              "version_minor": 0,
              "version_major": 2
            },
            "text/plain": [
              "HBox(children=(FloatProgress(value=0.0, max=170498071.0), HTML(value='')))"
            ]
          },
          "metadata": {
            "tags": []
          }
        },
        {
          "output_type": "stream",
          "text": [
            "\n",
            "Extracting ./data/cifar-10-python.tar.gz to ./data\n",
            "Files already downloaded and verified\n"
          ],
          "name": "stdout"
        }
      ]
    },
    {
      "cell_type": "code",
      "metadata": {
        "colab": {
          "base_uri": "https://localhost:8080/",
          "height": 155
        },
        "id": "Mrr_WZONO84i",
        "outputId": "a8dcd952-df28-4d00-f648-a91576690546"
      },
      "source": [
        "import matplotlib.pyplot as plt\n",
        "import numpy as np\n",
        "\n",
        "# functions to show an image\n",
        "\n",
        "\n",
        "def imshow(img):\n",
        "    img = img / 2 + 0.5     # unnormalize\n",
        "    npimg = img.numpy()\n",
        "    plt.imshow(np.transpose(npimg, (1, 2, 0)))\n",
        "    plt.show()\n",
        "\n",
        "\n",
        "# get some random training images\n",
        "dataiter = iter(trainloader)\n",
        "images, labels = dataiter.next()\n",
        "\n",
        "# show images\n",
        "imshow(torchvision.utils.make_grid(images))\n",
        "# print labels\n",
        "print(' '.join('%5s' % classes[labels[j]] for j in range(batch_size)))"
      ],
      "execution_count": 3,
      "outputs": [
        {
          "output_type": "display_data",
          "data": {
            "image/png": "[encoded data removed]",
            "text/plain": [
              "<Figure size 432x288 with 1 Axes>"
            ]
          },
          "metadata": {
            "tags": [],
            "needs_background": "light"
          }
        },
        {
          "output_type": "stream",
          "text": [
            "  dog truck  frog horse\n"
          ],
          "name": "stdout"
        }
      ]
    },
    {
      "cell_type": "code",
      "metadata": {
        "colab": {
          "base_uri": "https://localhost:8080/"
        },
        "id": "2NrLCuY0SFtf",
        "outputId": "6fba480b-b498-46bc-c494-78e7d8453e2c"
      },
      "source": [
        "print(len(trainset))\n",
        "print(len(testset))"
      ],
      "execution_count": 10,
      "outputs": [
        {
          "output_type": "stream",
          "text": [
            "50000\n",
            "10000\n"
          ],
          "name": "stdout"
        }
      ]
    },
    {
      "cell_type": "code",
      "metadata": {
        "colab": {
          "base_uri": "https://localhost:8080/"
        },
        "id": "NllvSItsSasK",
        "outputId": "79a2846a-7962-4fd5-c94e-a3fc54f21dbf"
      },
      "source": [
        "x,y = trainset[0]\n",
        "print(x.shape)"
      ],
      "execution_count": 11,
      "outputs": [
        {
          "output_type": "stream",
          "text": [
            "torch.Size([3, 32, 32])\n"
          ],
          "name": "stdout"
        }
      ]
    },
    {
      "cell_type": "code",
      "metadata": {
        "id": "EO9stxGVPDgW"
      },
      "source": [
        "class network_in_network(nn.Module):\n",
        "    def __init__(self):\n",
        "        super(network_in_network, self).__init__()\n",
        "        self.classifier = nn.Sequential(\n",
        "                nn.BatchNorm2d(3),\n",
        "                nn.Conv2d(3, 192, kernel_size=5, stride=1, padding=2),\n",
        "                nn.BatchNorm2d(192),\n",
        "                nn.ELU(inplace=True),\n",
        "                nn.Conv2d(192, 160, kernel_size=1, stride=1, padding=0),\n",
        "                nn.BatchNorm2d(160),\n",
        "                nn.ELU(inplace=True),\n",
        "                nn.Conv2d(160,  96, kernel_size=1, stride=1, padding=0),\n",
        "                nn.BatchNorm2d(96),\n",
        "                nn.ELU(inplace=True),\n",
        "                nn.MaxPool2d(kernel_size=3, stride=2, padding=1),\n",
        "                nn.Dropout(0.5),\n",
        "\n",
        "                nn.Conv2d(96, 192, kernel_size=5, stride=1, padding=2),\n",
        "                nn.BatchNorm2d(192),\n",
        "                nn.ELU(inplace=True),\n",
        "                nn.Conv2d(192, 192, kernel_size=1, stride=1, padding=0),\n",
        "                nn.BatchNorm2d(192),\n",
        "                nn.ELU(inplace=True),\n",
        "                nn.Conv2d(192, 192, kernel_size=1, stride=1, padding=0),\n",
        "                nn.BatchNorm2d(192),\n",
        "                nn.ELU(inplace=True),\n",
        "                nn.AvgPool2d(kernel_size=3, stride=2, padding=1),\n",
        "                nn.Dropout(0.5),\n",
        "\n",
        "                nn.Conv2d(192, 192, kernel_size=3, stride=1, padding=1),\n",
        "                nn.BatchNorm2d(192),\n",
        "                nn.ELU(inplace=True),\n",
        "                nn.Conv2d(192, 192, kernel_size=1, stride=1, padding=0),\n",
        "                nn.BatchNorm2d(192),\n",
        "                nn.ELU(inplace=True),\n",
        "                nn.Conv2d(192,  10, kernel_size=1, stride=1, padding=0),\n",
        "                nn.BatchNorm2d(10),\n",
        "                nn.ELU(inplace=True),\n",
        "                nn.AvgPool2d(kernel_size=8, stride=1, padding=0),\n",
        "\n",
        "                )\n",
        "\n",
        "    def forward(self, x):\n",
        "        x = self.classifier(x)\n",
        "        x = x.view(x.size(0), 10)\n",
        "        x = F.log_softmax(x, dim=1)\n",
        "        return x"
      ],
      "execution_count": 36,
      "outputs": []
    },
    {
      "cell_type": "code",
      "metadata": {
        "colab": {
          "base_uri": "https://localhost:8080/"
        },
        "id": "h6dgprwDZ9bT",
        "outputId": "992963f8-1481-4aed-ebd2-68e61932d437"
      },
      "source": [
        "device = torch.device('cuda:0')\n",
        "model = network_in_network().to(device)\n",
        "next(model.parameters()).is_cuda"
      ],
      "execution_count": 37,
      "outputs": [
        {
          "output_type": "execute_result",
          "data": {
            "text/plain": [
              "True"
            ]
          },
          "metadata": {
            "tags": []
          },
          "execution_count": 37
        }
      ]
    },
    {
      "cell_type": "code",
      "metadata": {
        "colab": {
          "base_uri": "https://localhost:8080/"
        },
        "id": "WNxzuLZRaTU4",
        "outputId": "6e6a0e4d-719b-48a5-9405-20ec9e80cf69"
      },
      "source": [
        "x = torch.rand(4,3,32,32).to(device)\n",
        "y = model(x)\n",
        "print(y.shape)"
      ],
      "execution_count": 38,
      "outputs": [
        {
          "output_type": "stream",
          "text": [
            "torch.Size([4, 10])\n"
          ],
          "name": "stdout"
        }
      ]
    },
    {
      "cell_type": "code",
      "metadata": {
        "colab": {
          "base_uri": "https://localhost:8080/"
        },
        "id": "lmdVyMRWcdd_",
        "outputId": "e66294c5-da24-4ce6-e99d-f5c20ee3ff1a"
      },
      "source": [
        "model_parameters = filter(lambda p: p.requires_grad, model.parameters())\n",
        "params = sum([np.prod(p.size()) for p in model_parameters])\n",
        "params"
      ],
      "execution_count": 39,
      "outputs": [
        {
          "output_type": "execute_result",
          "data": {
            "text/plain": [
              "969828"
            ]
          },
          "metadata": {
            "tags": []
          },
          "execution_count": 39
        }
      ]
    },
    {
      "cell_type": "code",
      "metadata": {
        "id": "YDTLZu8AjgJL"
      },
      "source": [
        ""
      ],
      "execution_count": null,
      "outputs": []
    },
    {
      "cell_type": "code",
      "metadata": {
        "colab": {
          "base_uri": "https://localhost:8080/"
        },
        "id": "BF9xsVOkdEv-",
        "outputId": "f62e4a05-fd9f-4f21-fee6-49258f180f5b"
      },
      "source": [
        "criterion = nn.CrossEntropyLoss()\n",
        "optimizer = optim.Adam(model.parameters(), lr = 1e-4)\n",
        "\n",
        "epochs = 5\n",
        "\n",
        "train_loss = 0\n",
        "\n",
        "train_losses = []\n",
        "test_losses = []\n",
        "model.train()\n",
        "\n",
        "print(\"Start training...\")\n",
        "for e in range(epochs):\n",
        "\n",
        "    steps = 0\n",
        "    for img, class_ in trainloader:\n",
        "        steps +=1\n",
        "\n",
        "        img = img.to(device).float()\n",
        "        class_ = class_.to(device)\n",
        "\n",
        "        try:\n",
        "          outputs = model(img)\n",
        "        except:\n",
        "          continue\n",
        "\n",
        "        loss = criterion(outputs, class_)\n",
        "        train_loss += loss.item()\n",
        "\n",
        "        optimizer.zero_grad()\n",
        "        loss.backward()\n",
        "        optimizer.step()\n",
        "        \n",
        "        \n",
        "    test_loss=0\n",
        "    accuracy = 0\n",
        "    with torch.no_grad():\n",
        "        model.eval()\n",
        "        for img, class_ in testloader:\n",
        "\n",
        "                img = img.to(device).float()\n",
        "                class_ = class_.to(device)\n",
        "\n",
        "                predictions = model(img)\n",
        "                loss = criterion(predictions, class_)\n",
        "                test_loss += loss.item()\n",
        "                ps = torch.exp(predictions)\n",
        "                top_p, top_class = ps.topk(1, dim=1)\n",
        "                equals = top_class == class_.view(*top_class.shape)\n",
        "                accuracy += torch.mean(equals.type(torch.FloatTensor))\n",
        "\n",
        "    running_train_loss = train_loss/len(trainloader)\n",
        "    running_valid_loss = test_loss/len(testloader)\n",
        "\n",
        "    print(\"Epoch: {}/{}.. \".format(e+1, epochs),\n",
        "        \"Training Loss: {:.3f}.. \".format(running_train_loss),\n",
        "        \"Validation Loss: {:.3f} \".format(running_valid_loss),\n",
        "        \"Test Accuracy: {:.3f}\".format(accuracy/len(testloader)))\n",
        "\n",
        "    train_losses.append(running_train_loss)\n",
        "    test_losses.append(running_valid_loss)\n",
        "\n",
        "    validation_batches = []\n",
        "    train_loss = 0\n",
        "\n",
        "    model.train()\n",
        "\n"
      ],
      "execution_count": 42,
      "outputs": [
        {
          "output_type": "stream",
          "text": [
            "Start training...\n",
            "Epoch: 1/5..  Training Loss: 1.608..  Validation Loss: 1.141  Test Accuracy: 0.624\n",
            "Epoch: 2/5..  Training Loss: 1.482..  Validation Loss: 1.041  Test Accuracy: 0.660\n",
            "Epoch: 3/5..  Training Loss: 1.377..  Validation Loss: 0.922  Test Accuracy: 0.693\n",
            "Epoch: 4/5..  Training Loss: 1.288..  Validation Loss: 0.869  Test Accuracy: 0.714\n",
            "Epoch: 5/5..  Training Loss: 1.206..  Validation Loss: 0.802  Test Accuracy: 0.740\n"
          ],
          "name": "stdout"
        }
      ]
    },
    {
      "cell_type": "code",
      "metadata": {
        "colab": {
          "base_uri": "https://localhost:8080/",
          "height": 265
        },
        "id": "GCuQwQ0pgCsF",
        "outputId": "2c19142d-f610-4508-860c-fc9d23745882"
      },
      "source": [
        "plt.figure()\n",
        "plt.plot(train_losses)\n",
        "plt.plot(test_losses)\n",
        "plt.show()"
      ],
      "execution_count": 43,
      "outputs": [
        {
          "output_type": "display_data",
          "data": {
            "image/png": "[encoded data removed]",
            "text/plain": [
              "<Figure size 432x288 with 1 Axes>"
            ]
          },
          "metadata": {
            "tags": [],
            "needs_background": "light"
          }
        }
      ]
    },
    {
      "cell_type": "code",
      "metadata": {
        "id": "tzmz8AMVnLL2"
      },
      "source": [
        ""
      ],
      "execution_count": null,
      "outputs": []
    }
  ]
}